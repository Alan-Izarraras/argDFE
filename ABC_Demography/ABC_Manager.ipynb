{
 "cells": [
  {
   "cell_type": "code",
   "execution_count": 1,
   "id": "813e5ea3",
   "metadata": {},
   "outputs": [],
   "source": [
    "import sys , random , math"
   ]
  },
  {
   "cell_type": "code",
   "execution_count": 49,
   "id": "1f522465",
   "metadata": {},
   "outputs": [
    {
     "name": "stdout",
     "output_type": "stream",
     "text": [
      "Ne Past: 14698\n",
      "Ne Initial: 6441\n",
      "Time in Generations: 7399\n"
     ]
    }
   ],
   "source": [
    "#### Prior distributions\n",
    "NeInitial = random.random() * 1.602  # 5 - 2.999 = 2.001\n",
    "#print(\"Ne Initial \" + str(NeInitial))\n",
    "NeInitial = int(10**(NeInitial + 2.999) + 1 + 0.5) #Valor maximos = 30k \n",
    "\n",
    "NePast = random.random() * 14899 #Valor maximo = 15k \n",
    "NePast = int(NePast + 101 + 0.5)\n",
    "\n",
    "Time = random.random() * 13000 #Valor maximo = 13k \n",
    "Time = int(Time + 0.5)\n",
    "\n",
    "print(\"Ne Past: \" +str(NePast))\n",
    "print(\"Ne Initial: \" + str(NeInitial))\n",
    "print(\"Time in Generations: \" + str(Time))"
   ]
  },
  {
   "cell_type": "code",
   "execution_count": 50,
   "id": "a00f894d",
   "metadata": {},
   "outputs": [
    {
     "name": "stdout",
     "output_type": "stream",
     "text": [
      "6441\t14698\t7399\n",
      "\n"
     ]
    }
   ],
   "source": [
    "TimeFraction = float( int(Time) / ( 4.0 * NeInitial))\n",
    "PopFraction = float ( int (NePast) / ( 1.0 *  NeInitial))\n",
    "Rho=1\n",
    "\n",
    "#Parsea ParamFiles con datos de arriba.\n",
    "String = str(NeInitial) + \"\\t\" + str(NePast) + \"\\t\" + str (Time) + \"\\n\"\n",
    "print(String)\n",
    "#ParsFile.write(String)"
   ]
  },
  {
   "cell_type": "code",
   "execution_count": null,
   "id": "882ff55a",
   "metadata": {},
   "outputs": [],
   "source": []
  }
 ],
 "metadata": {
  "kernelspec": {
   "display_name": "Python 3 (ipykernel)",
   "language": "python",
   "name": "python3"
  },
  "language_info": {
   "codemirror_mode": {
    "name": "ipython",
    "version": 3
   },
   "file_extension": ".py",
   "mimetype": "text/x-python",
   "name": "python",
   "nbconvert_exporter": "python",
   "pygments_lexer": "ipython3",
   "version": "3.11.5"
  }
 },
 "nbformat": 4,
 "nbformat_minor": 5
}
